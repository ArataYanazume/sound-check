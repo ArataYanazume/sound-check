{
  "nbformat": 4,
  "nbformat_minor": 0,
  "metadata": {
    "colab": {
      "provenance": [],
      "collapsed_sections": [],
      "mount_file_id": "1U0Vrf9P53rnODKFJX0RYJZOHKUJa2oMM",
      "authorship_tag": "ABX9TyOZPLQmH06dyBLNQJPFlWkP",
      "include_colab_link": true
    },
    "kernelspec": {
      "name": "python3",
      "display_name": "Python 3"
    },
    "language_info": {
      "name": "python"
    },
    "accelerator": "GPU"
  },
  "cells": [
    {
      "cell_type": "markdown",
      "metadata": {
        "id": "view-in-github",
        "colab_type": "text"
      },
      "source": [
        "<a href=\"https://colab.research.google.com/github/ArataYanazume/sound-check/blob/main/Stream.ipynb\" target=\"_parent\"><img src=\"https://colab.research.google.com/assets/colab-badge.svg\" alt=\"Open In Colab\"/></a>"
      ]
    },
    {
      "cell_type": "code",
      "metadata": {
        "id": "hqhWPvAMYI-r"
      },
      "source": [
        "import os\n",
        "import sys\n",
        "import asyncio\n",
        "# import grpc\n",
        "# import queue\n",
        "# import pyaudio"
      ],
      "execution_count": null,
      "outputs": []
    },
    {
      "cell_type": "code",
      "source": [
        "!pip install torch"
      ],
      "metadata": {
        "id": "vIR_cAaCnzKp",
        "outputId": "b3e44675-414e-4bf6-e5ca-1d46b143ba6d",
        "colab": {
          "base_uri": "https://localhost:8080/"
        }
      },
      "execution_count": null,
      "outputs": [
        {
          "output_type": "stream",
          "name": "stdout",
          "text": [
            "Requirement already satisfied: torch in /usr/local/lib/python3.7/dist-packages (1.10.0+cu111)\n",
            "Requirement already satisfied: typing-extensions in /usr/local/lib/python3.7/dist-packages (from torch) (3.10.0.2)\n"
          ]
        }
      ]
    },
    {
      "cell_type": "code",
      "metadata": {
        "colab": {
          "base_uri": "https://localhost:8080/"
        },
        "id": "_l1iZjQWZwxh",
        "outputId": "5bdfc67b-4e31-4e3c-a1a7-1fe5e582db84"
      },
      "source": [
        "#@title　学習済みモデルのダウンロード\n",
        "!pip install espnet_model_zoo\n",
        "\n",
        "from espnet_model_zoo.downloader import ModelDownloader\n",
        "from espnet2.bin.asr_inference import Speech2Text\n",
        "\n",
        "# 学習済みをダウンロードし、音声認識モデルを作成\n",
        "d = ModelDownloader()\n",
        "speech2text = Speech2Text(\n",
        "        **d.download_and_unpack(\"kan-bayashi/csj_asr_train_asr_transformer_raw_char_sp_valid.acc.ave\"),\n",
        "        device=\"cuda\"  # CPU で認識を行う場合は省略\n",
        "    )"
      ],
      "execution_count": null,
      "outputs": [
        {
          "output_type": "stream",
          "name": "stdout",
          "text": [
            "Collecting espnet_model_zoo\n",
            "  Downloading espnet_model_zoo-0.1.7-py3-none-any.whl (19 kB)\n",
            "Requirement already satisfied: filelock in /usr/local/lib/python3.7/dist-packages (from espnet_model_zoo) (3.4.2)\n",
            "Requirement already satisfied: numpy in /usr/local/lib/python3.7/dist-packages (from espnet_model_zoo) (1.19.5)\n",
            "Requirement already satisfied: requests in /usr/local/lib/python3.7/dist-packages (from espnet_model_zoo) (2.23.0)\n",
            "Requirement already satisfied: tqdm in /usr/local/lib/python3.7/dist-packages (from espnet_model_zoo) (4.62.3)\n",
            "Requirement already satisfied: pandas in /usr/local/lib/python3.7/dist-packages (from espnet_model_zoo) (1.1.5)\n",
            "Collecting espnet\n",
            "  Downloading espnet-0.10.5-py3-none-any.whl (947 kB)\n",
            "\u001b[K     |████████████████████████████████| 947 kB 26.4 MB/s \n",
            "\u001b[?25hCollecting huggingface-hub\n",
            "  Downloading huggingface_hub-0.4.0-py3-none-any.whl (67 kB)\n",
            "\u001b[K     |████████████████████████████████| 67 kB 6.1 MB/s \n",
            "\u001b[?25hCollecting ctc-segmentation<1.8,>=1.6.6\n",
            "  Downloading ctc_segmentation-1.7.1.tar.gz (71 kB)\n",
            "\u001b[K     |████████████████████████████████| 71 kB 11.3 MB/s \n",
            "\u001b[?25hCollecting pyworld>=0.2.10\n",
            "  Downloading pyworld-0.3.0.tar.gz (212 kB)\n",
            "\u001b[K     |████████████████████████████████| 212 kB 66.3 MB/s \n",
            "\u001b[?25h  Installing build dependencies ... \u001b[?25l\u001b[?25hdone\n",
            "  Getting requirements to build wheel ... \u001b[?25l\u001b[?25hdone\n",
            "    Preparing wheel metadata ... \u001b[?25l\u001b[?25hdone\n",
            "Collecting configargparse>=1.2.1\n",
            "  Downloading ConfigArgParse-1.5.3-py3-none-any.whl (20 kB)\n",
            "Collecting pytorch-wpe\n",
            "  Downloading pytorch_wpe-0.0.1-py3-none-any.whl (8.1 kB)\n",
            "Collecting kaldiio>=2.17.0\n",
            "  Downloading kaldiio-2.17.2.tar.gz (24 kB)\n",
            "Requirement already satisfied: torch>=1.3.0 in /usr/local/lib/python3.7/dist-packages (from espnet->espnet_model_zoo) (1.10.0+cu111)\n",
            "Collecting jamo==0.4.1\n",
            "  Downloading jamo-0.4.1-py3-none-any.whl (9.5 kB)\n",
            "Requirement already satisfied: librosa>=0.8.0 in /usr/local/lib/python3.7/dist-packages (from espnet->espnet_model_zoo) (0.8.1)\n",
            "Requirement already satisfied: typeguard>=2.7.0 in /usr/local/lib/python3.7/dist-packages (from espnet->espnet_model_zoo) (2.7.1)\n",
            "Collecting espnet-tts-frontend\n",
            "  Downloading espnet_tts_frontend-0.0.3-py3-none-any.whl (11 kB)\n",
            "Collecting PyYAML>=5.1.2\n",
            "  Downloading PyYAML-6.0-cp37-cp37m-manylinux_2_5_x86_64.manylinux1_x86_64.manylinux_2_12_x86_64.manylinux2010_x86_64.whl (596 kB)\n",
            "\u001b[K     |████████████████████████████████| 596 kB 57.6 MB/s \n",
            "\u001b[?25hCollecting humanfriendly\n",
            "  Downloading humanfriendly-10.0-py2.py3-none-any.whl (86 kB)\n",
            "\u001b[K     |████████████████████████████████| 86 kB 7.5 MB/s \n",
            "\u001b[?25hCollecting ci-sdr\n",
            "  Downloading ci_sdr-0.0.0.tar.gz (15 kB)\n",
            "Requirement already satisfied: h5py>=2.10.0 in /usr/local/lib/python3.7/dist-packages (from espnet->espnet_model_zoo) (3.1.0)\n",
            "Requirement already satisfied: soundfile>=0.10.2 in /usr/local/lib/python3.7/dist-packages (from espnet->espnet_model_zoo) (0.10.3.post1)\n",
            "Collecting nltk>=3.4.5\n",
            "  Downloading nltk-3.6.7-py3-none-any.whl (1.5 MB)\n",
            "\u001b[K     |████████████████████████████████| 1.5 MB 66.3 MB/s \n",
            "\u001b[?25hRequirement already satisfied: scipy>=1.4.1 in /usr/local/lib/python3.7/dist-packages (from espnet->espnet_model_zoo) (1.4.1)\n",
            "Collecting torch-complex\n",
            "  Downloading torch_complex-0.2.1-py3-none-any.whl (8.9 kB)\n",
            "Collecting sentencepiece\n",
            "  Downloading sentencepiece-0.1.96-cp37-cp37m-manylinux_2_17_x86_64.manylinux2014_x86_64.whl (1.2 MB)\n",
            "\u001b[K     |████████████████████████████████| 1.2 MB 69.7 MB/s \n",
            "\u001b[?25hRequirement already satisfied: setuptools>=38.5.1 in /usr/local/lib/python3.7/dist-packages (from espnet->espnet_model_zoo) (57.4.0)\n",
            "Requirement already satisfied: Cython in /usr/local/lib/python3.7/dist-packages (from ctc-segmentation<1.8,>=1.6.6->espnet->espnet_model_zoo) (0.29.26)\n",
            "Requirement already satisfied: cached-property in /usr/local/lib/python3.7/dist-packages (from h5py>=2.10.0->espnet->espnet_model_zoo) (1.5.2)\n",
            "Requirement already satisfied: joblib>=0.14 in /usr/local/lib/python3.7/dist-packages (from librosa>=0.8.0->espnet->espnet_model_zoo) (1.1.0)\n",
            "Requirement already satisfied: packaging>=20.0 in /usr/local/lib/python3.7/dist-packages (from librosa>=0.8.0->espnet->espnet_model_zoo) (21.3)\n",
            "Requirement already satisfied: decorator>=3.0.0 in /usr/local/lib/python3.7/dist-packages (from librosa>=0.8.0->espnet->espnet_model_zoo) (4.4.2)\n",
            "Requirement already satisfied: pooch>=1.0 in /usr/local/lib/python3.7/dist-packages (from librosa>=0.8.0->espnet->espnet_model_zoo) (1.5.2)\n",
            "Requirement already satisfied: numba>=0.43.0 in /usr/local/lib/python3.7/dist-packages (from librosa>=0.8.0->espnet->espnet_model_zoo) (0.51.2)\n",
            "Requirement already satisfied: audioread>=2.0.0 in /usr/local/lib/python3.7/dist-packages (from librosa>=0.8.0->espnet->espnet_model_zoo) (2.1.9)\n",
            "Requirement already satisfied: resampy>=0.2.2 in /usr/local/lib/python3.7/dist-packages (from librosa>=0.8.0->espnet->espnet_model_zoo) (0.2.2)\n",
            "Requirement already satisfied: scikit-learn!=0.19.0,>=0.14.0 in /usr/local/lib/python3.7/dist-packages (from librosa>=0.8.0->espnet->espnet_model_zoo) (1.0.2)\n",
            "Collecting regex>=2021.8.3\n",
            "  Downloading regex-2022.1.18-cp37-cp37m-manylinux_2_17_x86_64.manylinux2014_x86_64.whl (748 kB)\n",
            "\u001b[K     |████████████████████████████████| 748 kB 70.0 MB/s \n",
            "\u001b[?25hRequirement already satisfied: click in /usr/local/lib/python3.7/dist-packages (from nltk>=3.4.5->espnet->espnet_model_zoo) (7.1.2)\n",
            "Requirement already satisfied: llvmlite<0.35,>=0.34.0.dev0 in /usr/local/lib/python3.7/dist-packages (from numba>=0.43.0->librosa>=0.8.0->espnet->espnet_model_zoo) (0.34.0)\n",
            "Requirement already satisfied: pyparsing!=3.0.5,>=2.0.2 in /usr/local/lib/python3.7/dist-packages (from packaging>=20.0->librosa>=0.8.0->espnet->espnet_model_zoo) (3.0.6)\n",
            "Requirement already satisfied: appdirs in /usr/local/lib/python3.7/dist-packages (from pooch>=1.0->librosa>=0.8.0->espnet->espnet_model_zoo) (1.4.4)\n",
            "Requirement already satisfied: six>=1.3 in /usr/local/lib/python3.7/dist-packages (from resampy>=0.2.2->librosa>=0.8.0->espnet->espnet_model_zoo) (1.15.0)\n",
            "Requirement already satisfied: threadpoolctl>=2.0.0 in /usr/local/lib/python3.7/dist-packages (from scikit-learn!=0.19.0,>=0.14.0->librosa>=0.8.0->espnet->espnet_model_zoo) (3.0.0)\n",
            "Requirement already satisfied: cffi>=1.0 in /usr/local/lib/python3.7/dist-packages (from soundfile>=0.10.2->espnet->espnet_model_zoo) (1.15.0)\n",
            "Requirement already satisfied: pycparser in /usr/local/lib/python3.7/dist-packages (from cffi>=1.0->soundfile>=0.10.2->espnet->espnet_model_zoo) (2.21)\n",
            "Requirement already satisfied: typing-extensions in /usr/local/lib/python3.7/dist-packages (from torch>=1.3.0->espnet->espnet_model_zoo) (3.10.0.2)\n",
            "Collecting einops\n",
            "  Downloading einops-0.4.0-py3-none-any.whl (28 kB)\n",
            "Collecting pypinyin\n",
            "  Downloading pypinyin-0.44.0-py2.py3-none-any.whl (1.3 MB)\n",
            "\u001b[K     |████████████████████████████████| 1.3 MB 61.1 MB/s \n",
            "\u001b[?25hCollecting unidecode>=1.0.22\n",
            "  Downloading Unidecode-1.3.2-py3-none-any.whl (235 kB)\n",
            "\u001b[K     |████████████████████████████████| 235 kB 82.7 MB/s \n",
            "\u001b[?25hCollecting jaconv\n",
            "  Downloading jaconv-0.3.tar.gz (15 kB)\n",
            "Requirement already satisfied: inflect>=1.0.0 in /usr/local/lib/python3.7/dist-packages (from espnet-tts-frontend->espnet->espnet_model_zoo) (2.1.0)\n",
            "Collecting g2p-en\n",
            "  Downloading g2p_en-2.1.0-py3-none-any.whl (3.1 MB)\n",
            "\u001b[K     |████████████████████████████████| 3.1 MB 67.9 MB/s \n",
            "\u001b[?25hCollecting distance>=0.1.3\n",
            "  Downloading Distance-0.1.3.tar.gz (180 kB)\n",
            "\u001b[K     |████████████████████████████████| 180 kB 72.4 MB/s \n",
            "\u001b[?25hRequirement already satisfied: importlib-metadata in /usr/local/lib/python3.7/dist-packages (from huggingface-hub->espnet_model_zoo) (4.10.0)\n",
            "Requirement already satisfied: zipp>=0.5 in /usr/local/lib/python3.7/dist-packages (from importlib-metadata->huggingface-hub->espnet_model_zoo) (3.7.0)\n",
            "Requirement already satisfied: python-dateutil>=2.7.3 in /usr/local/lib/python3.7/dist-packages (from pandas->espnet_model_zoo) (2.8.2)\n",
            "Requirement already satisfied: pytz>=2017.2 in /usr/local/lib/python3.7/dist-packages (from pandas->espnet_model_zoo) (2018.9)\n",
            "Requirement already satisfied: idna<3,>=2.5 in /usr/local/lib/python3.7/dist-packages (from requests->espnet_model_zoo) (2.10)\n",
            "Requirement already satisfied: chardet<4,>=3.0.2 in /usr/local/lib/python3.7/dist-packages (from requests->espnet_model_zoo) (3.0.4)\n",
            "Requirement already satisfied: urllib3!=1.25.0,!=1.25.1,<1.26,>=1.21.1 in /usr/local/lib/python3.7/dist-packages (from requests->espnet_model_zoo) (1.24.3)\n",
            "Requirement already satisfied: certifi>=2017.4.17 in /usr/local/lib/python3.7/dist-packages (from requests->espnet_model_zoo) (2021.10.8)\n",
            "Building wheels for collected packages: ctc-segmentation, kaldiio, pyworld, ci-sdr, distance, jaconv\n",
            "  Building wheel for ctc-segmentation (setup.py) ... \u001b[?25l\u001b[?25hdone\n",
            "  Created wheel for ctc-segmentation: filename=ctc_segmentation-1.7.1-cp37-cp37m-linux_x86_64.whl size=114738 sha256=c696d43abf628ea2d4d0b3fe61754679269dbe10c326371a3dd2f425fd777050\n",
            "  Stored in directory: /root/.cache/pip/wheels/d6/ac/4a/64ebc95a83035c611af864bb1707bcf18322fcb9472ab2d675\n",
            "  Building wheel for kaldiio (setup.py) ... \u001b[?25l\u001b[?25hdone\n",
            "  Created wheel for kaldiio: filename=kaldiio-2.17.2-py3-none-any.whl size=24471 sha256=a791e8d71e291761f29ca4e0b50d8b94c4273d6e3c82f36ea8de1ad764611bd9\n",
            "  Stored in directory: /root/.cache/pip/wheels/04/07/e8/45641287c59bf6ce41e22259f8680b521c31e6306cb88392ac\n",
            "  Building wheel for pyworld (PEP 517) ... \u001b[?25l\u001b[?25hdone\n",
            "  Created wheel for pyworld: filename=pyworld-0.3.0-cp37-cp37m-linux_x86_64.whl size=609479 sha256=b2fc3b6172a12005b650c6a2173250679b7892027efb7c6ce1deeec60ec6de6f\n",
            "  Stored in directory: /root/.cache/pip/wheels/e7/7c/11/c775fffa0e1e7b05a6604b4323408a77f80fb4ab304d96b5c6\n",
            "  Building wheel for ci-sdr (setup.py) ... \u001b[?25l\u001b[?25hdone\n",
            "  Created wheel for ci-sdr: filename=ci_sdr-0.0.0-py3-none-any.whl size=14979 sha256=bb7736666d02fbebc3f275b2ad2fb81908394c850bdbd7b1e77f78da8f6fab05\n",
            "  Stored in directory: /root/.cache/pip/wheels/5f/38/80/2c54c1a4d62cbd3e0871eac9bb5dbb1f93257423888a4ae0ce\n",
            "  Building wheel for distance (setup.py) ... \u001b[?25l\u001b[?25hdone\n",
            "  Created wheel for distance: filename=Distance-0.1.3-py3-none-any.whl size=16276 sha256=3fc78e7d5c1e9dc7e7dc6b858b8ee31272853d7dbfbfd67a8103f72124965401\n",
            "  Stored in directory: /root/.cache/pip/wheels/b2/10/1b/96fca621a1be378e2fe104cfb0d160bb6cdf3d04a3d35266cc\n",
            "  Building wheel for jaconv (setup.py) ... \u001b[?25l\u001b[?25hdone\n",
            "  Created wheel for jaconv: filename=jaconv-0.3-py3-none-any.whl size=15564 sha256=d689d4cb942ffaafe776290e1da747c814666543d5a218634550ee1e6fb95f85\n",
            "  Stored in directory: /root/.cache/pip/wheels/8f/4f/c2/a2a3b14d0e94f855f4aa8887bf0267bee9ecfb8e62a9ee2d92\n",
            "Successfully built ctc-segmentation kaldiio pyworld ci-sdr distance jaconv\n",
            "Installing collected packages: regex, nltk, distance, unidecode, pypinyin, jaconv, g2p-en, einops, torch-complex, sentencepiece, PyYAML, pyworld, pytorch-wpe, kaldiio, jamo, humanfriendly, espnet-tts-frontend, ctc-segmentation, configargparse, ci-sdr, huggingface-hub, espnet, espnet-model-zoo\n",
            "  Attempting uninstall: regex\n",
            "    Found existing installation: regex 2019.12.20\n",
            "    Uninstalling regex-2019.12.20:\n",
            "      Successfully uninstalled regex-2019.12.20\n",
            "  Attempting uninstall: nltk\n",
            "    Found existing installation: nltk 3.2.5\n",
            "    Uninstalling nltk-3.2.5:\n",
            "      Successfully uninstalled nltk-3.2.5\n",
            "  Attempting uninstall: PyYAML\n",
            "    Found existing installation: PyYAML 3.13\n",
            "    Uninstalling PyYAML-3.13:\n",
            "      Successfully uninstalled PyYAML-3.13\n",
            "Successfully installed PyYAML-6.0 ci-sdr-0.0.0 configargparse-1.5.3 ctc-segmentation-1.7.1 distance-0.1.3 einops-0.4.0 espnet-0.10.5 espnet-model-zoo-0.1.7 espnet-tts-frontend-0.0.3 g2p-en-2.1.0 huggingface-hub-0.4.0 humanfriendly-10.0 jaconv-0.3 jamo-0.4.1 kaldiio-2.17.2 nltk-3.6.7 pypinyin-0.44.0 pytorch-wpe-0.0.1 pyworld-0.3.0 regex-2022.1.18 sentencepiece-0.1.96 torch-complex-0.2.1 unidecode-1.3.2\n"
          ]
        },
        {
          "output_type": "stream",
          "name": "stderr",
          "text": [
            "[nltk_data] Downloading package averaged_perceptron_tagger to\n",
            "[nltk_data]     /root/nltk_data...\n",
            "[nltk_data]   Unzipping taggers/averaged_perceptron_tagger.zip.\n",
            "[nltk_data] Downloading package cmudict to /root/nltk_data...\n",
            "[nltk_data]   Unzipping corpora/cmudict.zip.\n",
            "https://zenodo.org/record/4037458/files/asr_train_asr_transformer_raw_char_sp_valid.acc.ave.zip?download=1: 100%|██████████| 412M/412M [00:29<00:00, 14.7MB/s]\n"
          ]
        }
      ]
    },
    {
      "cell_type": "markdown",
      "metadata": {
        "id": "hJkLt9gfN6Dl"
      },
      "source": [
        "## Jarvis のコードを試す"
      ]
    },
    {
      "cell_type": "code",
      "metadata": {
        "id": "L0bPqCYAYXTz"
      },
      "source": [
        "# RATE = 16000\n",
        "# CHUNK = int(RATE / 10)  # 100ms"
      ],
      "execution_count": null,
      "outputs": []
    },
    {
      "cell_type": "code",
      "metadata": {
        "id": "nMiqL-XpZXOL"
      },
      "source": [
        "# with MicrophoneStream(RATE, CHUNK, device=None) as stream:\n",
        "#     audio_generator = stream.generator()\n",
        "#     requests = (jasr.StreamingRecognizeRequest(audio_content=content) for content in audio_generator)\n",
        "\n",
        "#     def build_generator(cfg, gen):\n",
        "#         yield jasr.StreamingRecognizeRequest(streaming_config=cfg)\n",
        "#         for x in gen:\n",
        "#             yield x\n",
        "\n",
        "#     responses = client.StreamingRecognize(build_generator(streaming_config, requests))\n",
        "#     asr_result = listen_print_loop(responses)\n",
        "\n",
        "# print(asr_result)"
      ],
      "execution_count": null,
      "outputs": []
    },
    {
      "cell_type": "code",
      "metadata": {
        "id": "547cOrzgZS4H"
      },
      "source": [
        "# class MicrophoneStream(object):\n",
        "#     \"\"\"Opens a recording stream as a generator yielding the audio chunks.\"\"\"\n",
        "\n",
        "#     def __init__(self, rate, chunk, device=None):\n",
        "#         self._rate = rate\n",
        "#         self._chunk = chunk\n",
        "#         self._device = device\n",
        "\n",
        "#         # Create a thread-safe buffer of audio data\n",
        "#         self._buff = queue.Queue() #FIFO(First in First out)\n",
        "#         self.closed = True\n",
        "\n",
        "#     # 前処理\n",
        "#     def __enter__(self):\n",
        "#         self._audio_interface = pyaudio.PyAudio()\n",
        "#         self._audio_stream = self._audio_interface.open(\n",
        "#             format=pyaudio.paInt16,\n",
        "#             input_device_index=self._device,\n",
        "#             channels=1,\n",
        "#             rate=self._rate,\n",
        "#             input=True,\n",
        "#             frames_per_buffer=self._chunk,\n",
        "#             stream_callback=self._fill_buffer,\n",
        "#         )\n",
        "\n",
        "#         self.closed = False\n",
        "\n",
        "#         return self\n",
        "\n",
        "#     # 後処理\n",
        "#     def __exit__(self, type, value, traceback):\n",
        "#         self._audio_stream.stop_stream()\n",
        "#         self._audio_stream.close()\n",
        "#         self.closed = True\n",
        "#         # Signal the generator to terminate so that the client's\n",
        "#         # streaming_recognize method will not block the process termination.\n",
        "#         self._buff.put(None)\n",
        "#         self._audio_interface.terminate()\n",
        "\n",
        "#     def _fill_buffer(self, in_data, frame_count, time_info, status_flags):\n",
        "#         \"\"\"Continuously collect data from the audio stream, into the buffer.\"\"\"\n",
        "#         self._buff.put(in_data)\n",
        "#         return None, pyaudio.paContinue\n",
        "\n",
        "#     def generator(self):\n",
        "#         while not self.closed:\n",
        "#             chunk = self._buff.get()\n",
        "#             if chunk is None:\n",
        "#                 return\n",
        "#             data = [chunk]\n",
        "\n",
        "#             while True:\n",
        "#                 try:\n",
        "#                     chunk = self._buff.get(block=False)\n",
        "#                     if chunk is None:\n",
        "#                         return\n",
        "#                     data.append(chunk)\n",
        "#                 except queue.Empty:\n",
        "#                     break\n",
        "\n",
        "#             yield b''.join(data)\n",
        "\n",
        "\n",
        "# def listen_print_loop(responses):\n",
        "#     num_chars_printed = 0\n",
        "#     for response in responses:\n",
        "#         if not response.results:\n",
        "#             continue\n",
        "#         result = response.results[0]\n",
        "#         if not result.alternatives:\n",
        "#             continue\n",
        "\n",
        "#         transcript = result.alternatives[0].transcript\n",
        "\n",
        "#         overwrite_chars = ' ' * (num_chars_printed - len(transcript))\n",
        "\n",
        "#         if not result.is_final:\n",
        "#             sys.stdout.write(transcript + overwrite_chars + '\\r')\n",
        "#             sys.stdout.flush()\n",
        "\n",
        "#             num_chars_printed = len(transcript)\n",
        "\n",
        "#         else:\n",
        "#             jarvis_transcript = transcript + overwrite_chars\n",
        "#             # print(jarvis_transcript)\n",
        "#             num_chars_printed = 0\n",
        "#             break\n",
        "\n",
        "#     return jarvis_transcript"
      ],
      "execution_count": null,
      "outputs": []
    },
    {
      "cell_type": "markdown",
      "metadata": {
        "id": "G1Bm0uPpNDLW"
      },
      "source": [
        "## PyAudio を試す"
      ]
    },
    {
      "cell_type": "code",
      "metadata": {
        "id": "9P3a5NKEceGr"
      },
      "source": [
        "# RECORD_SECONDS = 10 #録音する時間の長さ（秒）\n",
        "# WAVE_OUTPUT_FILENAME = \"sample.wav\" #音声を保存するファイル名\n",
        "# iDeviceIndex = 0 #録音デバイスのインデックス番号"
      ],
      "execution_count": null,
      "outputs": []
    },
    {
      "cell_type": "code",
      "metadata": {
        "id": "NxMz-B2KaXL4"
      },
      "source": [
        "# RATE = 16000\n",
        "# CHUNK = int(RATE / 10)  # 100ms"
      ],
      "execution_count": null,
      "outputs": []
    },
    {
      "cell_type": "code",
      "metadata": {
        "id": "LGBB1z5icQtf"
      },
      "source": [
        "# FORMAT = pyaudio.paInt16 #音声のフォーマット\n",
        "# CHANNELS = 1             #モノラル\n",
        "# audio = pyaudio.PyAudio() #pyaudio.PyAudio()\n",
        " \n",
        "# stream = audio.open(format=FORMAT, channels=CHANNELS,\n",
        "#         rate=RATE, input=True,\n",
        "#         input_device_index = iDeviceIndex, #録音デバイスのインデックス番号\n",
        "#         frames_per_buffer=CHUNK)"
      ],
      "execution_count": null,
      "outputs": []
    },
    {
      "cell_type": "code",
      "metadata": {
        "id": "aWgX-r90cmsx"
      },
      "source": [
        "# print (\"recording...\")\n",
        "# frames = []\n",
        "# for i in range(0, int(RATE / CHUNK * RECORD_SECONDS)):\n",
        "#     data = stream.read(CHUNK)\n",
        "#     frames.append(data)\n",
        " \n",
        " \n",
        "# print (\"finished recording\")"
      ],
      "execution_count": null,
      "outputs": []
    },
    {
      "cell_type": "markdown",
      "metadata": {
        "id": "OErjM-8dNfsa"
      },
      "source": [
        "## Pydub を試す"
      ]
    },
    {
      "cell_type": "code",
      "metadata": {
        "colab": {
          "base_uri": "https://localhost:8080/",
          "height": 455
        },
        "id": "vcZAOuyeviR1",
        "outputId": "44557214-0682-41e8-df4b-70b4b7f861cc"
      },
      "source": [
        "# All the imports to deal with sound data\n",
        "!pip install pydub numba==0.48\n",
        "\n",
        "from IPython.display import Audio, Javascript\n",
        "from base64 import b64decode\n",
        "from scipy.io import wavfile\n",
        "from pydub import AudioSegment"
      ],
      "execution_count": null,
      "outputs": [
        {
          "output_type": "stream",
          "name": "stdout",
          "text": [
            "Collecting pydub\n",
            "  Downloading pydub-0.25.1-py2.py3-none-any.whl (32 kB)\n",
            "Collecting numba==0.48\n",
            "  Downloading numba-0.48.0-1-cp37-cp37m-manylinux2014_x86_64.whl (3.5 MB)\n",
            "\u001b[K     |████████████████████████████████| 3.5 MB 57.1 MB/s \n",
            "\u001b[?25hRequirement already satisfied: setuptools in /usr/local/lib/python3.7/dist-packages (from numba==0.48) (57.4.0)\n",
            "Collecting llvmlite<0.32.0,>=0.31.0dev0\n",
            "  Downloading llvmlite-0.31.0-cp37-cp37m-manylinux1_x86_64.whl (20.2 MB)\n",
            "\u001b[K     |████████████████████████████████| 20.2 MB 1.2 MB/s \n",
            "\u001b[?25hRequirement already satisfied: numpy>=1.15 in /usr/local/lib/python3.7/dist-packages (from numba==0.48) (1.19.5)\n",
            "Installing collected packages: llvmlite, pydub, numba\n",
            "  Attempting uninstall: llvmlite\n",
            "    Found existing installation: llvmlite 0.34.0\n",
            "    Uninstalling llvmlite-0.34.0:\n",
            "      Successfully uninstalled llvmlite-0.34.0\n",
            "  Attempting uninstall: numba\n",
            "    Found existing installation: numba 0.51.2\n",
            "    Uninstalling numba-0.51.2:\n",
            "      Successfully uninstalled numba-0.51.2\n",
            "Successfully installed llvmlite-0.31.0 numba-0.48.0 pydub-0.25.1\n"
          ]
        },
        {
          "output_type": "display_data",
          "data": {
            "application/vnd.colab-display-data+json": {
              "pip_warning": {
                "packages": [
                  "llvmlite",
                  "numba"
                ]
              }
            }
          },
          "metadata": {}
        }
      ]
    },
    {
      "cell_type": "code",
      "metadata": {
        "id": "wrG8gUHPrfNp"
      },
      "source": [
        "RECORD = \"\"\"\n",
        "const sleep  = time => new Promise(resolve => setTimeout(resolve, time))\n",
        "const b2text = blob => new Promise(resolve => {\n",
        "  const reader = new FileReader()\n",
        "  reader.onloadend = e => resolve(e.srcElement.result)\n",
        "  reader.readAsDataURL(blob)\n",
        "})\n",
        "var record = time => new Promise(async resolve => {\n",
        "  stream = await navigator.mediaDevices.getUserMedia({ audio: true })\n",
        "  recorder = new MediaRecorder(stream)\n",
        "  chunks = []\n",
        "  recorder.ondataavailable = e => chunks.push(e.data)\n",
        "  recorder.start()\n",
        "  await sleep(time)\n",
        "  recorder.onstop = async ()=>{\n",
        "    blob = new Blob(chunks)\n",
        "    text = await b2text(blob)\n",
        "    resolve(text)\n",
        "  }\n",
        "  recorder.stop()\n",
        "})\n",
        "\"\"\"\n",
        "\n",
        "def record(sec=5):\n",
        "  try:\n",
        "    from google.colab import output\n",
        "  except ImportError:\n",
        "    print('No possible to import output from google.colab')\n",
        "    return ''\n",
        "  else:\n",
        "    print('Recording')\n",
        "    display(Javascript(RECORD))\n",
        "    s = output.eval_js('record(%d)' % (sec*1000))\n",
        "    fname = 'recorded_audio.wav'\n",
        "    print('Saving to', fname)\n",
        "    b = b64decode(s.split(',')[1])\n",
        "    with open(fname, 'wb') as f:\n",
        "      f.write(b)\n",
        "    return fname"
      ],
      "execution_count": null,
      "outputs": []
    },
    {
      "cell_type": "code",
      "metadata": {
        "id": "OY6AXZ76vXCB"
      },
      "source": [
        "# Function that converts the user-created audio to the format that the model \n",
        "# expects: bitrate 16kHz and only one channel (mono).\n",
        "\n",
        "EXPECTED_SAMPLE_RATE = 16000\n",
        "\n",
        "def convert(user_file, output_file='converted_audio_file.wav'):\n",
        "  audio = AudioSegment.from_file(user_file)\n",
        "  audio = audio.set_frame_rate(EXPECTED_SAMPLE_RATE).set_channels(1)\n",
        "  audio.export(output_file, format=\"wav\")\n",
        "  return output_file"
      ],
      "execution_count": null,
      "outputs": []
    },
    {
      "cell_type": "code",
      "metadata": {
        "id": "bi66KsmztLzL"
      },
      "source": [
        "#@title　音声認識\n",
        "import soundfile\n",
        "def sound_read(sec=5):\n",
        "  uploaded_file_name = record(sec)\n",
        "  converted_audio_file = convert(uploaded_file_name)\n",
        "\n",
        "  # 音声ファイル読み込み\n",
        "  speech, _ = soundfile.read(converted_audio_file)  # 認識させたい音声ファイルを指定\n",
        "\n",
        "  # 認識結果の取得と表示\n",
        "  nbests = speech2text(speech)\n",
        "  text, *_ = nbests[0]\n",
        "  return text\n"
      ],
      "execution_count": null,
      "outputs": []
    },
    {
      "cell_type": "code",
      "source": [
        "recorded_text = sound_read(4)"
      ],
      "metadata": {
        "colab": {
          "base_uri": "https://localhost:8080/",
          "height": 141
        },
        "id": "s3EfJbw6p9pv",
        "outputId": "8775e692-ffa3-474d-ed71-389894fe758e"
      },
      "execution_count": null,
      "outputs": [
        {
          "output_type": "stream",
          "name": "stdout",
          "text": [
            "Recording\n"
          ]
        },
        {
          "output_type": "display_data",
          "data": {
            "application/javascript": [
              "\n",
              "const sleep  = time => new Promise(resolve => setTimeout(resolve, time))\n",
              "const b2text = blob => new Promise(resolve => {\n",
              "  const reader = new FileReader()\n",
              "  reader.onloadend = e => resolve(e.srcElement.result)\n",
              "  reader.readAsDataURL(blob)\n",
              "})\n",
              "var record = time => new Promise(async resolve => {\n",
              "  stream = await navigator.mediaDevices.getUserMedia({ audio: true })\n",
              "  recorder = new MediaRecorder(stream)\n",
              "  chunks = []\n",
              "  recorder.ondataavailable = e => chunks.push(e.data)\n",
              "  recorder.start()\n",
              "  await sleep(time)\n",
              "  recorder.onstop = async ()=>{\n",
              "    blob = new Blob(chunks)\n",
              "    text = await b2text(blob)\n",
              "    resolve(text)\n",
              "  }\n",
              "  recorder.stop()\n",
              "})\n"
            ],
            "text/plain": [
              "<IPython.core.display.Javascript object>"
            ]
          },
          "metadata": {}
        },
        {
          "output_type": "stream",
          "name": "stdout",
          "text": [
            "Saving to recorded_audio.wav\n"
          ]
        },
        {
          "output_type": "stream",
          "name": "stderr",
          "text": [
            "/usr/local/lib/python3.7/dist-packages/espnet2/layers/stft.py:166: UserWarning: __floordiv__ is deprecated, and its behavior will change in a future version of pytorch. It currently rounds toward 0 (like the 'trunc' function NOT 'floor'). This results in incorrect rounding for negative values. To keep the current behavior, use torch.div(a, b, rounding_mode='trunc'), or for actual floor division, use torch.div(a, b, rounding_mode='floor').\n",
            "  olens = (ilens - self.n_fft) // self.hop_length + 1\n",
            "/usr/local/lib/python3.7/dist-packages/espnet/nets/batch_beam_search.py:107: UserWarning: __floordiv__ is deprecated, and its behavior will change in a future version of pytorch. It currently rounds toward 0 (like the 'trunc' function NOT 'floor'). This results in incorrect rounding for negative values. To keep the current behavior, use torch.div(a, b, rounding_mode='trunc'), or for actual floor division, use torch.div(a, b, rounding_mode='floor').\n",
            "  prev_hyp_ids = top_ids // self.n_vocab\n"
          ]
        }
      ]
    },
    {
      "cell_type": "code",
      "metadata": {
        "id": "TgZH60IvTy0g",
        "colab": {
          "base_uri": "https://localhost:8080/"
        },
        "outputId": "42e91364-dba1-4e18-b593-b15a2bc69225"
      },
      "source": [
        "print(recorded_text)"
      ],
      "execution_count": null,
      "outputs": [
        {
          "output_type": "stream",
          "name": "stdout",
          "text": [
            "とぅ録音ができなければいざという時に役に立たない\n"
          ]
        }
      ]
    },
    {
      "cell_type": "code",
      "metadata": {
        "colab": {
          "base_uri": "https://localhost:8080/"
        },
        "id": "H-T7gFKituFK",
        "outputId": "596b5371-7cfe-486d-a8d3-c353ed464e1b"
      },
      "source": [
        "# !pip install pydub numba==0.48\n",
        "!pip install pydub"
      ],
      "execution_count": null,
      "outputs": [
        {
          "output_type": "stream",
          "name": "stdout",
          "text": [
            "Requirement already satisfied: pydub in /usr/local/lib/python3.7/dist-packages (0.25.1)\n"
          ]
        }
      ]
    },
    {
      "cell_type": "code",
      "metadata": {
        "id": "OJ09UAF16hl-"
      },
      "source": [
        "import soundfile\n",
        "from pydub import AudioSegment\n",
        "\n",
        "from espnet_model_zoo.downloader import ModelDownloader\n",
        "from espnet2.bin.asr_inference import Speech2Text\n",
        "\n",
        "# 学習済みをダウンロードし、音声認識モデルを作成\n",
        "d = ModelDownloader()\n",
        "speech2text = Speech2Text(\n",
        "    **d.download_and_unpack(\"kan-bayashi/csj_asr_train_asr_transformer_raw_char_sp_valid.acc.ave\"),\n",
        "    device=\"cuda\"  # CPU で認識を行う場合は省略\n",
        "    )\n",
        "\n",
        "EXPECTED_SAMPLE_RATE = 16000\n",
        "\n",
        "def convert_audio_for_model(user_file, output_file='converted_audio_file.wav'):\n",
        "  audio = AudioSegment.from_file(user_file)\n",
        "  audio = audio.set_frame_rate(EXPECTED_SAMPLE_RATE).set_channels(1)\n",
        "  audio.export(output_file, format=\"wav\")\n",
        "  return output_file\n",
        "\n",
        "def read(uploaded_file_name):\n",
        "    converted_audio_file = convert_audio_for_model(uploaded_file_name)\n",
        "    # 音声ファイル読み込み\n",
        "    speech, _ = soundfile.read(converted_audio_file)  # 認識させたい音声ファイルを指定\n",
        "\n",
        "    # 認識結果の取得と表示\n",
        "    nbests = speech2text(speech)\n",
        "    text, *_ = nbests[0]\n",
        "    return text"
      ],
      "execution_count": null,
      "outputs": []
    },
    {
      "cell_type": "code",
      "metadata": {
        "colab": {
          "base_uri": "https://localhost:8080/",
          "height": 125
        },
        "id": "meED2SQJsTfj",
        "outputId": "ad14aa13-600a-4225-f152-237e693dd17c"
      },
      "source": [
        "read('BASIC5000_0150.wav')"
      ],
      "execution_count": null,
      "outputs": [
        {
          "output_type": "stream",
          "name": "stderr",
          "text": [
            "/usr/local/lib/python3.7/dist-packages/espnet2/layers/stft.py:166: UserWarning: __floordiv__ is deprecated, and its behavior will change in a future version of pytorch. It currently rounds toward 0 (like the 'trunc' function NOT 'floor'). This results in incorrect rounding for negative values. To keep the current behavior, use torch.div(a, b, rounding_mode='trunc'), or for actual floor division, use torch.div(a, b, rounding_mode='floor').\n",
            "  olens = (ilens - self.win_length) // self.hop_length + 1\n",
            "/usr/local/lib/python3.7/dist-packages/espnet/nets/batch_beam_search.py:107: UserWarning: __floordiv__ is deprecated, and its behavior will change in a future version of pytorch. It currently rounds toward 0 (like the 'trunc' function NOT 'floor'). This results in incorrect rounding for negative values. To keep the current behavior, use torch.div(a, b, rounding_mode='trunc'), or for actual floor division, use torch.div(a, b, rounding_mode='floor').\n",
            "  prev_hyp_ids = top_ids // self.n_vocab\n"
          ]
        },
        {
          "output_type": "execute_result",
          "data": {
            "application/vnd.google.colaboratory.intrinsic+json": {
              "type": "string"
            },
            "text/plain": [
              "'え顕微鏡と望遠鏡の違いが分かりますか'"
            ]
          },
          "metadata": {},
          "execution_count": 5
        }
      ]
    },
    {
      "cell_type": "code",
      "metadata": {
        "id": "9Wmdx7Ygslmw"
      },
      "source": [
        "import soundfile\n",
        "from pydub import AudioSegment\n",
        "\n",
        "from espnet_model_zoo.downloader import ModelDownloader\n",
        "from espnet2.bin.asr_inference import Speech2Text\n",
        "\n",
        "EXPECTED_SAMPLE_RATE = 16000\n",
        "\n",
        "# 学習済みをダウンロードし、音声認識モデルを作成\n",
        "class asr_model():\n",
        "\n",
        "    def __init__(self):\n",
        "        self.d = ModelDownloader()\n",
        "        self.speech2text = Speech2Text(\n",
        "            **self.d.download_and_unpack(\"kan-bayashi/csj_asr_train_asr_transformer_raw_char_sp_valid.acc.ave\"),\n",
        "            device=\"cuda\"  # CPU で認識を行う場合は省略\n",
        "            )\n",
        "\n",
        "    def convert_audio_for_model(self, user_file, output_file='converted_audio_file.wav'):\n",
        "        self.audio = AudioSegment.from_file(user_file)\n",
        "        self.audio = self.audio.set_frame_rate(EXPECTED_SAMPLE_RATE).set_channels(1)\n",
        "        self.audio.export(output_file, format=\"wav\")\n",
        "        return output_file\n",
        "\n",
        "    def read(self, uploaded_file_name):\n",
        "        self.converted_audio_file = self.convert_audio_for_model(uploaded_file_name)\n",
        "        # 音声ファイル読み込み\n",
        "        self.speech, _ = soundfile.read(self.converted_audio_file)  # 認識させたい音声ファイルを指定\n",
        "\n",
        "        # 認識結果の取得と表示\n",
        "        self.nbests = self.speech2text(self.speech)\n",
        "        self.text, *_ = self.nbests[0]\n",
        "        return self.text"
      ],
      "execution_count": null,
      "outputs": []
    },
    {
      "cell_type": "code",
      "metadata": {
        "id": "XEyrUuEryLZZ"
      },
      "source": [
        "asr = asr_model()"
      ],
      "execution_count": null,
      "outputs": []
    },
    {
      "cell_type": "code",
      "metadata": {
        "colab": {
          "base_uri": "https://localhost:8080/",
          "height": 125
        },
        "id": "AwDkzaYEyRIc",
        "outputId": "4ebfe40c-036c-436e-a977-6c532be990b6"
      },
      "source": [
        "text = asr.read('BASIC5000_0142.wav')\n",
        "text"
      ],
      "execution_count": null,
      "outputs": [
        {
          "output_type": "stream",
          "name": "stderr",
          "text": [
            "/usr/local/lib/python3.7/dist-packages/espnet2/layers/stft.py:166: UserWarning: __floordiv__ is deprecated, and its behavior will change in a future version of pytorch. It currently rounds toward 0 (like the 'trunc' function NOT 'floor'). This results in incorrect rounding for negative values. To keep the current behavior, use torch.div(a, b, rounding_mode='trunc'), or for actual floor division, use torch.div(a, b, rounding_mode='floor').\n",
            "  olens = (ilens - self.n_fft) // self.hop_length + 1\n",
            "/usr/local/lib/python3.7/dist-packages/espnet/nets/batch_beam_search.py:107: UserWarning: __floordiv__ is deprecated, and its behavior will change in a future version of pytorch. It currently rounds toward 0 (like the 'trunc' function NOT 'floor'). This results in incorrect rounding for negative values. To keep the current behavior, use torch.div(a, b, rounding_mode='trunc'), or for actual floor division, use torch.div(a, b, rounding_mode='floor').\n",
            "  prev_hyp_ids = top_ids // self.n_vocab\n"
          ]
        },
        {
          "output_type": "execute_result",
          "data": {
            "application/vnd.google.colaboratory.intrinsic+json": {
              "type": "string"
            },
            "text/plain": [
              "'お兄さんを呼吸させる為に医者にその機会を使ってもらいたいと思いますか'"
            ]
          },
          "metadata": {},
          "execution_count": 9
        }
      ]
    },
    {
      "cell_type": "code",
      "metadata": {
        "colab": {
          "base_uri": "https://localhost:8080/",
          "height": 35
        },
        "id": "pLkDIgAPyh0-",
        "outputId": "5c6aa77d-6e29-44a8-93f5-4e9771994ee6"
      },
      "source": [
        "text"
      ],
      "execution_count": null,
      "outputs": [
        {
          "output_type": "execute_result",
          "data": {
            "application/vnd.google.colaboratory.intrinsic+json": {
              "type": "string"
            },
            "text/plain": [
              "'電車を発明したのは誰だか知っていますか'"
            ]
          },
          "metadata": {},
          "execution_count": 20
        }
      ]
    },
    {
      "cell_type": "code",
      "metadata": {
        "id": "MM186JKBzLn1"
      },
      "source": [],
      "execution_count": null,
      "outputs": []
    }
  ]
}